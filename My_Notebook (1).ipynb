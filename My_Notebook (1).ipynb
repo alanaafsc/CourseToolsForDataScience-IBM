{
  "metadata": {
    "kernelspec": {
      "name": "python",
      "display_name": "Pyolite",
      "language": "python"
    },
    "language_info": {
      "codemirror_mode": {
        "name": "python",
        "version": 3
      },
      "file_extension": ".py",
      "mimetype": "text/x-python",
      "name": "python",
      "nbconvert_exporter": "python",
      "pygments_lexer": "ipython3",
      "version": "3.8"
    }
  },
  "nbformat_minor": 4,
  "nbformat": 4,
  "cells": [
    {
      "cell_type": "markdown",
      "source": "<center>\n    <img src=\"https://s3-api.us-geo.objectstorage.softlayer.net/cf-courses-data/CognitiveClass/Logos/organization_logo/organization_logo.png\" width=\"300\" alt=\"cognitiveclass.ai logo\"  />\n</center>\n",
      "metadata": {}
    },
    {
      "cell_type": "markdown",
      "source": "#### Add your code below following the instructions given in the course\n",
      "metadata": {}
    },
    {
      "cell_type": "markdown",
      "source": "## My First JupyterLab File \nHi, this is my first Jupyter Notebook and I'm testing some tools. I'm studying for the Tools for Data Science course offered by IBM and certified by Coursera.\n",
      "metadata": {}
    },
    {
      "cell_type": "markdown",
      "source": "<a href=\"https://dataplatform.cloud.ibm.com/gallery\">IBM Cloud Gallery</a>",
      "metadata": {}
    },
    {
      "cell_type": "markdown",
      "source": "## Testing\n# Header 1",
      "metadata": {}
    },
    {
      "cell_type": "markdown",
      "source": "| header | header |\n| ------ | ------ |\n| cell | cell |",
      "metadata": {}
    },
    {
      "cell_type": "markdown",
      "source": "## three columns and four rows.\n| header | header | header |\n| ------ | ------ | ------ |\n| cell | cell | cell |\n| cell | cell | cell |\n| cell | cell | cell |",
      "metadata": {}
    },
    {
      "cell_type": "code",
      "source": "",
      "metadata": {},
      "execution_count": null,
      "outputs": []
    }
  ]
}